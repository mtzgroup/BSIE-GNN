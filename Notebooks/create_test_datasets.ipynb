{
 "cells": [
  {
   "cell_type": "code",
   "execution_count": 12,
   "metadata": {},
   "outputs": [],
   "source": [
    "import os\n",
    "import sys\n",
    "from NN import data, utils, create_input, datagenerator\n",
    "import glob\n",
    "import numpy as np"
   ]
  },
  {
   "cell_type": "code",
   "execution_count": 13,
   "metadata": {},
   "outputs": [],
   "source": [
    "create_mol_dict = create_input.CreateMolDict(cutoff=6.0)  # Function to create input dictionary. \n",
    "# The cutoff the the cutoff used to create edges between atoms"
   ]
  },
  {
   "attachments": {},
   "cell_type": "markdown",
   "metadata": {},
   "source": [
    "# Create datasets used for testing the model"
   ]
  },
  {
   "attachments": {},
   "cell_type": "markdown",
   "metadata": {},
   "source": [
    "### S66x100"
   ]
  },
  {
   "cell_type": "code",
   "execution_count": 14,
   "metadata": {},
   "outputs": [
    {
     "name": "stdout",
     "output_type": "stream",
     "text": [
      "A 66\n",
      "B 66\n",
      "complex 6600\n"
     ]
    }
   ],
   "source": [
    "dest = \"Datasets/S66x100\"\n",
    "source = \"../Data/S66x100/\"\n",
    "\n",
    "if not os.path.isdir(dest):\n",
    "    os.makedirs(dest)\n",
    "\n",
    "energies_dz = utils.load_np_txt_files(os.path.join(source, \"Energies/B3LYP/CC-PVDZ\"))\n",
    "energies_5z = utils.load_np_txt_files(os.path.join(source, \"Energies/B3LYP/CC-PV5Z\"))\n",
    "\n",
    "complex_folders = glob.glob(os.path.join(source, \"Complexes\", \"*\"))\n",
    "\n",
    "# The individual datapoints of the dataset are added to a data.MolDictList object.\n",
    "datasets = {\n",
    "    \"A\": data.MolDictList(),  # Subunit A datapoints\n",
    "    \"B\": data.MolDictList(),  # Subunit B datapoints\n",
    "    \"complex\": data.MolDictList(),  # Complex datapoints\n",
    "}\n",
    "for complex_folder in complex_folders:\n",
    "    complex_id = int(os.path.basename(complex_folder))\n",
    "    for key, dataset in datasets.items():\n",
    "        filename = os.path.join(complex_folder, f\"{key}.xyz\")\n",
    "        atoms, xyz = utils.read_xyz_file(filename)\n",
    "        \n",
    "        for i, frame in enumerate(xyz):\n",
    "            dataset.append(\n",
    "                create_mol_dict(\n",
    "                    atoms=atoms,\n",
    "                    coordinates=frame,\n",
    "                    energy=0.0,  # If dataset is used for training, the reference value that is fitted goes here.\n",
    "                    index=i,  # Indices that can be used to identify datapoint\n",
    "                    molecule_index=complex_id,  # Indices that can be used to identify datapoint\n",
    "                )\n",
    "            )\n",
    "\n",
    "for key, dataset in datasets.items():\n",
    "    print(key, len(dataset))\n",
    "    filename = os.path.join(dest, f\"{key}.pickle\")\n",
    "    data.save_dataset(filename, dataset)"
   ]
  },
  {
   "attachments": {},
   "cell_type": "markdown",
   "metadata": {},
   "source": [
    "### Linear Hydrocarbon test dataset"
   ]
  },
  {
   "cell_type": "code",
   "execution_count": 15,
   "metadata": {},
   "outputs": [],
   "source": [
    "dest = \"Datasets/LinearHydrocarbons\"\n",
    "source = \"../Data/LinearHydrocarbons/XYZ/\"\n",
    "\n",
    "if not os.path.isdir(dest):\n",
    "    os.makedirs(dest)\n",
    "\n",
    "# The individual datapoints of the dataset are added to a data.MolDictList object.\n",
    "dataset = data.MolDictList()\n",
    "for i in range(1, 16):\n",
    "    filename = os.path.join(source, f\"{i}.xyz\")\n",
    "    atoms, xyz = utils.read_xyz_file(filename)\n",
    "    dataset.append(\n",
    "        create_mol_dict(\n",
    "            atoms=atoms,\n",
    "            coordinates=xyz[0],\n",
    "            energy=0.0,  # If dataset is used for training, the reference value that is fitted goes here.\n",
    "            index=i,  # Indices that can be used to identify datapoint\n",
    "            molecule_index=i,  # Indices that can be used to identify datapoint\n",
    "        )\n",
    "    )\n",
    "\n",
    "filename = os.path.join(dest, \"dataset.pickle\")\n",
    "data.save_dataset(filename, dataset)"
   ]
  },
  {
   "attachments": {},
   "cell_type": "markdown",
   "metadata": {},
   "source": [
    "### PAHs"
   ]
  },
  {
   "cell_type": "code",
   "execution_count": 16,
   "metadata": {},
   "outputs": [],
   "source": [
    "dest = \"Datasets/PAHs\"\n",
    "source = \"../Data/PAHs/XYZ/\"\n",
    "\n",
    "if not os.path.isdir(dest):\n",
    "    os.makedirs(dest)\n",
    "\n",
    "# The individual datapoints of the dataset are added to a data.MolDictList object.\n",
    "dataset = data.MolDictList()\n",
    "for i in range(1, 6):\n",
    "    filename = os.path.join(source, f\"{i}.xyz\")\n",
    "    atoms, xyz = utils.read_xyz_file(filename)\n",
    "    dataset.append(\n",
    "        create_mol_dict(\n",
    "            atoms=atoms,\n",
    "            coordinates=xyz[0],\n",
    "            energy=0.0,  # If dataset is used for training, the reference value that is fitted goes here.\n",
    "            index=i,  # Indices that can be used to identify datapoint\n",
    "            molecule_index=i,  # Indices that can be used to identify datapoint\n",
    "        )\n",
    "    )\n",
    "\n",
    "filename = os.path.join(dest, \"dataset.pickle\")\n",
    "data.save_dataset(filename, dataset)"
   ]
  },
  {
   "cell_type": "code",
   "execution_count": null,
   "metadata": {},
   "outputs": [],
   "source": []
  }
 ],
 "metadata": {
  "kernelspec": {
   "display_name": "bsie_rep",
   "language": "python",
   "name": "python3"
  },
  "language_info": {
   "codemirror_mode": {
    "name": "ipython",
    "version": 3
   },
   "file_extension": ".py",
   "mimetype": "text/x-python",
   "name": "python",
   "nbconvert_exporter": "python",
   "pygments_lexer": "ipython3",
   "version": "3.9.15"
  },
  "orig_nbformat": 4,
  "vscode": {
   "interpreter": {
    "hash": "398ee6803aa719d1c5c529f6131baab737ea3807b7cba1bd7058ac25e2e6ea59"
   }
  }
 },
 "nbformat": 4,
 "nbformat_minor": 2
}
